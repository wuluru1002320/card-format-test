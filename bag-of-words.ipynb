{
 "cells": [
  {
   "cell_type": "code",
   "execution_count": 7,
   "metadata": {},
   "outputs": [],
   "source": [
    "import os, ssl\n",
    "if (not os.environ.get('PYTHONHTTPSVERIFY', '') and\n",
    "    getattr(ssl, '_create_unverified_context', None)): \n",
    "    ssl._create_default_https_context = ssl._create_unverified_context"
   ]
  },
  {
   "cell_type": "code",
   "execution_count": 8,
   "metadata": {},
   "outputs": [],
   "source": [
    "from sklearn.datasets import fetch_20newsgroups\n",
    "from sklearn.model_selection import train_test_split\n",
    "from sklearn.feature_extraction.text import CountVectorizer\n",
    "import pandas as pd\n",
    "from sklearn.naive_bayes import MultinomialNB\n",
    "from sklearn.metrics import accuracy_score, classification_report\n",
    "import re"
   ]
  },
  {
   "cell_type": "code",
   "execution_count": 9,
   "metadata": {},
   "outputs": [
    {
     "name": "stdout",
     "output_type": "stream",
     "text": [
      "['alt.atheism', 'comp.graphics', 'comp.os.ms-windows.misc', 'comp.sys.ibm.pc.hardware', 'comp.sys.mac.hardware', 'comp.windows.x', 'misc.forsale', 'rec.autos', 'rec.motorcycles', 'rec.sport.baseball', 'rec.sport.hockey', 'sci.crypt', 'sci.electronics', 'sci.med', 'sci.space', 'soc.religion.christian', 'talk.politics.guns', 'talk.politics.mideast', 'talk.politics.misc', 'talk.religion.misc']\n",
      "18846\n",
      "18846\n"
     ]
    }
   ],
   "source": [
    "news = fetch_20newsgroups(subset='all')\n",
    "print(news.target_names)\n",
    "print(len(news.data))\n",
    "print(len(news.target))"
   ]
  },
  {
   "cell_type": "code",
   "execution_count": 14,
   "metadata": {},
   "outputs": [
    {
     "name": "stdout",
     "output_type": "stream",
     "text": [
      "準確率: 0.8503978779840848\n",
      "分類報告:\n",
      "              precision    recall  f1-score   support\n",
      "\n",
      "           0       0.84      0.89      0.86       151\n",
      "           1       0.63      0.91      0.74       202\n",
      "           2       0.93      0.22      0.36       195\n",
      "           3       0.60      0.86      0.71       183\n",
      "           4       0.91      0.87      0.89       205\n",
      "           5       0.84      0.83      0.84       215\n",
      "           6       0.94      0.62      0.75       193\n",
      "           7       0.88      0.93      0.91       196\n",
      "           8       0.96      0.92      0.94       168\n",
      "           9       0.98      0.96      0.97       211\n",
      "          10       0.96      0.96      0.96       198\n",
      "          11       0.87      0.96      0.91       201\n",
      "          12       0.90      0.83      0.86       202\n",
      "          13       0.94      0.92      0.93       194\n",
      "          14       0.90      0.98      0.94       189\n",
      "          15       0.78      0.99      0.87       202\n",
      "          16       0.88      0.93      0.90       188\n",
      "          17       0.92      1.00      0.96       182\n",
      "          18       0.78      0.90      0.84       159\n",
      "          19       0.97      0.45      0.61       136\n",
      "\n",
      "    accuracy                           0.85      3770\n",
      "   macro avg       0.87      0.85      0.84      3770\n",
      "weighted avg       0.87      0.85      0.84      3770\n",
      "\n"
     ]
    }
   ],
   "source": [
    "vectorizer_1 = CountVectorizer()\n",
    "X_1 = vectorizer_1.fit_transform(news.data)\n",
    "y_1 = news.target\n",
    "\n",
    "X_train, X_test, y_train, y_test = train_test_split(X_1, y_1, test_size=0.2, random_state=42)\n",
    "\n",
    "# 使用 MultinomialNB 分類器進行訓練和預測\n",
    "classifier = MultinomialNB()\n",
    "classifier.fit(X_train, y_train)\n",
    "y_pred = classifier.predict(X_test)\n",
    "\n",
    "# 計算準確率\n",
    "accuracy = accuracy_score(y_test, y_pred)\n",
    "print(\"準確率:\", accuracy)\n",
    "\n",
    "report = classification_report(y_test, y_pred)\n",
    "print(\"分類報告:\")\n",
    "print(report)"
   ]
  },
  {
   "cell_type": "code",
   "execution_count": 15,
   "metadata": {},
   "outputs": [
    {
     "name": "stdout",
     "output_type": "stream",
     "text": [
      "準確率: 0.8742705570291777\n",
      "分類報告:\n",
      "              precision    recall  f1-score   support\n",
      "\n",
      "           0       0.85      0.91      0.88       151\n",
      "           1       0.67      0.93      0.78       202\n",
      "           2       0.96      0.37      0.54       195\n",
      "           3       0.61      0.86      0.72       183\n",
      "           4       0.89      0.90      0.89       205\n",
      "           5       0.85      0.85      0.85       215\n",
      "           6       0.93      0.69      0.80       193\n",
      "           7       0.91      0.95      0.93       196\n",
      "           8       0.95      0.94      0.95       168\n",
      "           9       0.98      0.96      0.97       211\n",
      "          10       0.95      0.97      0.96       198\n",
      "          11       0.92      0.96      0.94       201\n",
      "          12       0.92      0.83      0.87       202\n",
      "          13       0.95      0.95      0.95       194\n",
      "          14       0.92      0.97      0.94       189\n",
      "          15       0.88      0.99      0.93       202\n",
      "          16       0.89      0.93      0.91       188\n",
      "          17       0.95      0.99      0.97       182\n",
      "          18       0.83      0.89      0.86       159\n",
      "          19       0.95      0.57      0.71       136\n",
      "\n",
      "    accuracy                           0.87      3770\n",
      "   macro avg       0.89      0.87      0.87      3770\n",
      "weighted avg       0.89      0.87      0.87      3770\n",
      "\n"
     ]
    }
   ],
   "source": [
    "vectorizer_2 = CountVectorizer(stop_words='english')\n",
    "X_2 = vectorizer_2.fit_transform(news.data)\n",
    "y_2 = news.target\n",
    "\n",
    "X_train, X_test, y_train, y_test = train_test_split(X_2, y_2, test_size=0.2, random_state=42)\n",
    "\n",
    "# 使用 MultinomialNB 分類器進行訓練和預測\n",
    "classifier = MultinomialNB()\n",
    "classifier.fit(X_train, y_train)\n",
    "y_pred = classifier.predict(X_test)\n",
    "\n",
    "# 計算準確率\n",
    "accuracy = accuracy_score(y_test, y_pred)\n",
    "print(\"準確率:\", accuracy)\n",
    "\n",
    "report = classification_report(y_test, y_pred)\n",
    "print(\"分類報告:\")\n",
    "print(report)"
   ]
  },
  {
   "cell_type": "code",
   "execution_count": 18,
   "metadata": {},
   "outputs": [
    {
     "name": "stdout",
     "output_type": "stream",
     "text": [
      "準確率: 0.8984084880636605\n",
      "分類報告:\n",
      "              precision    recall  f1-score   support\n",
      "\n",
      "           0       0.87      0.95      0.91       151\n",
      "           1       0.71      0.88      0.79       202\n",
      "           2       0.97      0.74      0.84       195\n",
      "           3       0.70      0.83      0.76       183\n",
      "           4       0.93      0.85      0.89       205\n",
      "           5       0.89      0.86      0.87       215\n",
      "           6       0.90      0.71      0.79       193\n",
      "           7       0.90      0.95      0.92       196\n",
      "           8       0.94      0.95      0.94       168\n",
      "           9       0.96      0.95      0.95       211\n",
      "          10       0.91      0.97      0.94       198\n",
      "          11       0.93      0.97      0.95       201\n",
      "          12       0.94      0.86      0.90       202\n",
      "          13       0.95      0.92      0.93       194\n",
      "          14       0.92      0.97      0.95       189\n",
      "          15       0.93      0.99      0.96       202\n",
      "          16       0.90      0.95      0.93       188\n",
      "          17       0.96      0.99      0.98       182\n",
      "          18       0.92      0.92      0.92       159\n",
      "          19       0.96      0.73      0.83       136\n",
      "\n",
      "    accuracy                           0.90      3770\n",
      "   macro avg       0.90      0.90      0.90      3770\n",
      "weighted avg       0.90      0.90      0.90      3770\n",
      "\n"
     ]
    }
   ],
   "source": [
    "vectorizer_3 = CountVectorizer(stop_words='english', ngram_range=(1,3))\n",
    "X_3 = vectorizer_3.fit_transform(news.data)\n",
    "y_3 = news.target\n",
    "\n",
    "X_train, X_test, y_train, y_test = train_test_split(X_3, y_3, test_size=0.2, random_state=42)\n",
    "\n",
    "# 使用 MultinomialNB 分類器進行訓練和預測\n",
    "classifier = MultinomialNB()\n",
    "classifier.fit(X_train, y_train)\n",
    "y_pred = classifier.predict(X_test)\n",
    "\n",
    "# 計算準確率\n",
    "accuracy = accuracy_score(y_test, y_pred)\n",
    "print(\"準確率:\", accuracy)\n",
    "\n",
    "report = classification_report(y_test, y_pred)\n",
    "print(\"分類報告:\")\n",
    "print(report)"
   ]
  },
  {
   "cell_type": "code",
   "execution_count": 22,
   "metadata": {},
   "outputs": [
    {
     "name": "stdout",
     "output_type": "stream",
     "text": [
      "準確率: 0.8986737400530505\n",
      "分類報告:\n",
      "              precision    recall  f1-score   support\n",
      "\n",
      "           0       0.87      0.94      0.90       151\n",
      "           1       0.75      0.85      0.79       202\n",
      "           2       0.96      0.74      0.84       195\n",
      "           3       0.69      0.83      0.75       183\n",
      "           4       0.91      0.86      0.88       205\n",
      "           5       0.89      0.86      0.87       215\n",
      "           6       0.88      0.75      0.81       193\n",
      "           7       0.90      0.96      0.93       196\n",
      "           8       0.93      0.94      0.94       168\n",
      "           9       0.97      0.95      0.96       211\n",
      "          10       0.91      0.97      0.94       198\n",
      "          11       0.94      0.97      0.95       201\n",
      "          12       0.93      0.86      0.89       202\n",
      "          13       0.95      0.92      0.93       194\n",
      "          14       0.92      0.97      0.95       189\n",
      "          15       0.94      0.99      0.96       202\n",
      "          16       0.91      0.95      0.93       188\n",
      "          17       0.97      0.99      0.98       182\n",
      "          18       0.91      0.92      0.92       159\n",
      "          19       0.93      0.73      0.81       136\n",
      "\n",
      "    accuracy                           0.90      3770\n",
      "   macro avg       0.90      0.90      0.90      3770\n",
      "weighted avg       0.90      0.90      0.90      3770\n",
      "\n"
     ]
    }
   ],
   "source": [
    "vectorizer_4 = CountVectorizer(stop_words='english', ngram_range=(1,3),min_df=2, max_df=0.8)\n",
    "X_4 = vectorizer_4.fit_transform(news.data)\n",
    "y_4 = news.target\n",
    "\n",
    "X_train, X_test, y_train, y_test = train_test_split(X_4, y_4, test_size=0.2, random_state=42)\n",
    "\n",
    "# 使用 MultinomialNB 分類器進行訓練和預測\n",
    "classifier = MultinomialNB()\n",
    "classifier.fit(X_train, y_train)\n",
    "y_pred = classifier.predict(X_test)\n",
    "\n",
    "# 計算準確率\n",
    "accuracy = accuracy_score(y_test, y_pred)\n",
    "print(\"準確率:\", accuracy)\n",
    "\n",
    "report = classification_report(y_test, y_pred)\n",
    "print(\"分類報告:\")\n",
    "print(report)"
   ]
  },
  {
   "cell_type": "code",
   "execution_count": 30,
   "metadata": {},
   "outputs": [],
   "source": [
    "vectorizer_5 = CountVectorizer(stop_words='english', ngram_range=(1,4),min_df=2, max_df=0.8)\n",
    "X_5 = vectorizer_5.fit_transform(news.data)\n",
    "y_5 = news.target\n",
    "\n",
    "X_train, X_test, y_train, y_test = train_test_split(X_4, y_4, test_size=0.2, random_state=42)\n",
    "\n",
    "# 使用 MultinomialNB 分類器進行訓練和預測\n",
    "classifier = MultinomialNB(alpha=0.5)\n",
    "classifier.fit(X_train, y_train)\n",
    "y_pred = classifier.predict(X_test)\n",
    "\n",
    "# 計算準確率\n",
    "accuracy = accuracy_score(y_test, y_pred)\n",
    "print(\"準確率:\", accuracy)\n",
    "\n",
    "report = classification_report(y_test, y_pred)\n",
    "print(\"分類報告:\")\n",
    "print(report)"
   ]
  }
 ],
 "metadata": {
  "kernelspec": {
   "display_name": "Python 3",
   "language": "python",
   "name": "python3"
  },
  "language_info": {
   "codemirror_mode": {
    "name": "ipython",
    "version": 3
   },
   "file_extension": ".py",
   "mimetype": "text/x-python",
   "name": "python",
   "nbconvert_exporter": "python",
   "pygments_lexer": "ipython3",
   "version": "3.11.4"
  },
  "orig_nbformat": 4
 },
 "nbformat": 4,
 "nbformat_minor": 2
}
